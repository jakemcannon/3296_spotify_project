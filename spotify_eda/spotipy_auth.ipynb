{
 "cells": [
  {
   "cell_type": "code",
   "execution_count": 2,
   "metadata": {},
   "outputs": [],
   "source": [
    "import sys\n",
    "import random\n",
    "\n",
    "import spotipy\n",
    "import spotipy.util as util\n",
    "\n",
    "\n",
    "scope = 'user-library-read user-top-read user-follow-read playlist-modify-public'\n",
    "client_id=''\n",
    "client_secret=''\n",
    "redirect_uri = 'http://127.0.0.1:5000/callback'"
   ]
  },
  {
   "cell_type": "code",
   "execution_count": 28,
   "metadata": {},
   "outputs": [],
   "source": [
    "# if len(sys.argv) > 1:\n",
    "#     username = sys.argv[1]\n",
    "# else:\n",
    "#     print(\"Usage: %s username\" % (sys.argv[0], ))\n",
    "#     sys.exit()\n",
    "\n",
    "\n",
    "token = util.prompt_for_user_token(username='1257032170', scope=scope, client_id=client_id, client_secret=client_secret, redirect_uri='http://127.0.0.1:5000/callback')\n",
    "result = {}\n",
    "sp = spotipy.Spotify(auth=token)"
   ]
  },
  {
   "cell_type": "markdown",
   "metadata": {},
   "source": [
    "### Get current users top tracks"
   ]
  },
  {
   "cell_type": "code",
   "execution_count": 29,
   "metadata": {},
   "outputs": [
    {
     "name": "stdout",
     "output_type": "stream",
     "text": [
      "Ariadna (ариадна) - Kedr Livanskiy\n",
      "Babyyy - Grace Ives\n",
      "Long Flight - Future Islands\n",
      "O Pamela - The Wake\n",
      "Sun Poisioning - Horse Jumper of Love\n",
      "The More You Live, The More You Love - A Flock Of Seagulls\n",
      "Cheap Extensions - Sonny & The Sunsets\n",
      "Number One - Eddie the Wheel\n",
      "Always On Time - COOL HEAT\n",
      "She Works Out Too Much - MGMT\n",
      "Dreamhorse - Still Corners\n",
      "Capable Type - Momma\n",
      "Your Dog - Soccer Mommy\n",
      "Gretel - Alex G\n",
      "Gold Dust - Duster\n",
      "Fast Talk - Still Woozy Remix - Houses\n",
      "Denise, Don’t Wanna See You Cry - Night Moves\n",
      "Greenland - Vundabar\n",
      "Shut Me Down - Mirror Kisses\n",
      "Madagascar - LAKE\n"
     ]
    }
   ],
   "source": [
    "results = sp.current_user_saved_tracks()\n",
    "for item in results['items']:\n",
    "    track = item['track']\n",
    "    print(track['name'] + ' - ' + track['artists'][0]['name'])"
   ]
  },
  {
   "cell_type": "markdown",
   "metadata": {},
   "source": [
    "### How to find top artists in medium time range"
   ]
  },
  {
   "cell_type": "code",
   "execution_count": 58,
   "metadata": {},
   "outputs": [
    {
     "name": "stdout",
     "output_type": "stream",
     "text": [
      "George Clanton\n",
      "Ekora\n",
      "Preoccupations\n",
      "Part Time\n",
      "Ariel Pink\n",
      "Ruby Haunt\n",
      "Gorillaz\n",
      "i9bonsai\n",
      "The Smashing Pumpkins\n",
      "Vanillaroma\n",
      "The Cleaners From Venus\n",
      "Arca\n",
      "SALEM\n",
      "Strange Ranger\n",
      "Jean Dawson\n",
      "Washed Out\n",
      "Graveyard Club\n",
      "Mirror Kisses\n",
      "The Garden\n",
      "Black Marble\n"
     ]
    }
   ],
   "source": [
    "top_artists = sp.current_user_top_artists(offset=0, time_range='medium_term')\n",
    "for item in top_artists['items']:\n",
    "    print(item[\"name\"])"
   ]
  },
  {
   "cell_type": "markdown",
   "metadata": {},
   "source": [
    "### How to find top tracks in medium time range"
   ]
  },
  {
   "cell_type": "code",
   "execution_count": 64,
   "metadata": {},
   "outputs": [
    {
     "name": "stdout",
     "output_type": "stream",
     "text": [
      "Past the Sleeping Guards of the Mausoleum\n",
      "Silhouettes\n",
      "Lesser Than\n",
      "sacboy advntr\n",
      "Animal Machines\n",
      "King for a Day\n",
      "The Colour Of Love\n",
      "Chalk Tablet Towers (feat. St Vincent)\n",
      "I Don’t Love Me Anymore\n",
      "Under Your Window\n",
      "House Show\n",
      "A Little Bit\n",
      "Machote\n",
      "Leona\n",
      "Strangers\n",
      "nthn\n",
      "Night Drive\n",
      "Norman Bates\n",
      "Proud\n",
      "Aries (feat. Peter Hook and Georgia)\n",
      "funee monkee gif\n",
      "Surrender\n",
      "globabee,, glo glo\n",
      "Bunker Buster\n",
      "Time of Wandering (Prelude)\n",
      "I Belong to You\n",
      "Lies in the Eyes of Love\n",
      "Throw It Away\n",
      "Deserter\n",
      "Topanga State of Mind\n",
      "Useless Information\n",
      "Devilish\n",
      "Baby Blue Motorcycle\n",
      "Memory\n",
      "Crash Pad\n",
      "Time of Wandering\n",
      "Cuts You Up\n",
      "Time Travel\n",
      "Pickpocket\n",
      "The Cost of Living\n",
      "Revelations\n",
      "Driving in My Car\n",
      "Dark Entries\n",
      "Debold\n",
      "Needing You\n",
      "Music for Chameleons\n",
      "Fires In Heaven\n",
      "Transmission - Live\n",
      "Pyrotechnics\n",
      "God Moving Over The Face Of The Waters\n"
     ]
    }
   ],
   "source": [
    "top_tracks = sp.current_user_top_tracks(limit='50', time_range='medium_term')\n",
    "for item in top_tracks['items']:\n",
    "    print(item[\"name\"])"
   ]
  },
  {
   "cell_type": "markdown",
   "metadata": {},
   "source": [
    "### How to get top genres (by way of getting top artists)"
   ]
  },
  {
   "cell_type": "code",
   "execution_count": 60,
   "metadata": {},
   "outputs": [
    {
     "name": "stdout",
     "output_type": "stream",
     "text": [
      "George Clanton\n",
      "['chillwave', 'escape room', 'hyperpop', 'vaporwave']\n",
      "Ekora\n",
      "['indie garage rock']\n",
      "Preoccupations\n",
      "['calgary indie', 'canadian indie', 'canadian post-punk', 'canadian punk', 'chamber psych', 'freak folk', 'garage psych', 'indie garage rock', 'indie punk', 'indie rock', 'modern alternative rock', 'nu gaze']\n",
      "Part Time\n",
      "['chillwave', 'experimental pop', 'indie garage rock', 'nu gaze']\n",
      "Ariel Pink\n",
      "['alternative dance', 'alternative rock', 'art pop', 'chillwave', 'dream pop', 'experimental pop', 'freak folk', 'indie garage rock', 'indie pop', 'la indie', 'neo-psychedelic', 'new rave', 'new weird america', 'nu gaze']\n",
      "Ruby Haunt\n",
      "['chillwave']\n",
      "Gorillaz\n",
      "['alternative hip hop']\n",
      "i9bonsai\n",
      "['glitchcore']\n",
      "The Smashing Pumpkins\n",
      "['alternative metal', 'alternative rock', 'grunge', 'modern rock', 'permanent wave', 'pop rock', 'rock']\n",
      "Vanillaroma\n",
      "[]\n",
      "The Cleaners From Venus\n",
      "['alternative rock', 'art rock', 'dance rock', 'experimental', 'experimental pop', 'freak folk', 'garage psych', 'gbvfi', 'indie garage rock', 'lo-fi', 'post-punk', 'uk post-punk']\n",
      "Arca\n",
      "['ai', 'art pop', 'dance pop', 'deconstructed club', 'electropop', 'escape room', 'experimental pop', 'fluxwork']\n",
      "SALEM\n",
      "['grave wave']\n",
      "Strange Ranger\n",
      "['bubblegrunge', 'indie punk', 'indie rock']\n",
      "Jean Dawson\n",
      "['indie hip hop', 'indie r&b', 'modern indie pop']\n",
      "Washed Out\n",
      "['alternative dance', 'chillwave', 'indie pop', 'indie rock', 'indietronica', 'neo-synthpop', 'nu gaze', 'shimmer pop']\n",
      "Graveyard Club\n",
      "['minneapolis indie']\n",
      "Mirror Kisses\n",
      "[]\n",
      "The Garden\n",
      "['art punk', 'indie garage rock', 'oc indie']\n",
      "Black Marble\n",
      "['chillwave', 'dark post-punk', 'garage psych', 'nu gaze']\n"
     ]
    }
   ],
   "source": [
    "for item in top_artists['items']:\n",
    "    artist = sp.artist(item['id'])\n",
    "    print(artist['name'])\n",
    "    print(artist['genres'])\n",
    "    "
   ]
  },
  {
   "cell_type": "markdown",
   "metadata": {},
   "source": [
    "### Recommendations endpoint"
   ]
  },
  {
   "cell_type": "code",
   "execution_count": 41,
   "metadata": {},
   "outputs": [
    {
     "name": "stdout",
     "output_type": "stream",
     "text": [
      "------------ Top 5 artists ------------\n",
      "George Clanton - 1G5v3lpMz7TeoW0yGpRQHr\n",
      "Ekora - 0JAHeFLWV7cIxlqysNy7vD\n",
      "Preoccupations - 2bs3QE2ZMBjmb0QTqAjCj3\n",
      "Part Time - 5M0HAqHXyOh3q7WQnvce8o\n",
      "Ariel Pink - 5H0YoDsPDi9fObFmJtTjfN\n",
      " \n",
      "------------ Top 5  recommendations ------------\n",
      "Dirty Projectors - My Possession\n",
      "Home - Come Back Down\n",
      "Clarence Clarity - Cancer™ in the Water\n",
      "Show Me the Body - Metallic Taste\n",
      "Part Time - 19\n",
      "Girl Band - Paul\n",
      "Beach Fossils - Sugar\n",
      "Real Estate - Talking Backwards\n",
      "Weatherday - Mio, Min Mio\n",
      "Galaxie 500 - Strange\n"
     ]
    }
   ],
   "source": [
    "top_artists = sp.current_user_top_artists(limit=5, offset=0, time_range='medium_term')\n",
    "artist_ids = []\n",
    "# get my top 5 artist in medium time length to see the recommendations() endpoint\n",
    "print(\"------------ Top 5 artists ------------\")\n",
    "for item in top_artists['items']:\n",
    "    artist = item['name']\n",
    "    artist_id = item['id']\n",
    "    artist_ids.append(artist_id)\n",
    "    print(artist + ' - ' + artist_id)\n",
    "\n",
    "print(\" \")\n",
    "print(\"------------ Top 5  recommendations ------------\")\n",
    "recommendations = sp.recommendations(seed_artists=artist_ids, limit=10)\n",
    "# print(recommendations)\n",
    "for result in recommendations['tracks']:\n",
    "    artist = result['artists'][0]['name']\n",
    "    track = result[\"name\"]\n",
    "    print(artist + ' - ' + track)"
   ]
  }
 ],
 "metadata": {
  "kernelspec": {
   "display_name": "Python 3",
   "language": "python",
   "name": "python3"
  },
  "language_info": {
   "codemirror_mode": {
    "name": "ipython",
    "version": 3
   },
   "file_extension": ".py",
   "mimetype": "text/x-python",
   "name": "python",
   "nbconvert_exporter": "python",
   "pygments_lexer": "ipython3",
   "version": "3.9.4"
  }
 },
 "nbformat": 4,
 "nbformat_minor": 4
}
